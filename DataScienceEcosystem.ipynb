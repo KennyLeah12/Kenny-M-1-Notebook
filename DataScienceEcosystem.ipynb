{
 "cells": [
  {
   "cell_type": "markdown",
   "id": "73120420-9947-4f6a-ada4-03d6f2efb7fd",
   "metadata": {},
   "source": [
    "# Data Science Tools and Ecosystem"
   ]
  },
  {
   "cell_type": "markdown",
   "id": "2af170dc-902a-40e0-8b69-cd878ec83cf7",
   "metadata": {},
   "source": [
    "In this notebook, Data Science Tools and EcoSystem are summarized."
   ]
  },
  {
   "cell_type": "markdown",
   "id": "9f9fc622-4686-4b20-a04c-71ad1bd62990",
   "metadata": {},
   "source": [
    "**Objectives**\n",
    "- List Popular Data Science Languages\n",
    "- List common Libraries\n",
    "- List Data Science Tools for Enviornment Development"
   ]
  },
  {
   "cell_type": "markdown",
   "id": "59a1250f-a92a-41eb-b499-72805bd0ee4f",
   "metadata": {},
   "source": [
    "Some of the popluar languages that Data Scientists use are:\n",
    "1. Python\n",
    "2. R\n",
    "3. SQL"
   ]
  },
  {
   "cell_type": "markdown",
   "id": "e0d5f898-83ab-477c-87e6-48a8f9b4a1a3",
   "metadata": {},
   "source": [
    "Some of the commonly used libraries used by Data Scientists include:\n",
    "1. Pandas\n",
    "2. Matplotlib\n",
    "3. Numpy"
   ]
  },
  {
   "cell_type": "markdown",
   "id": "a4688aee-5eb9-4b91-ad43-5a5006baef9d",
   "metadata": {},
   "source": [
    "\n",
    "| Data Science Tools|\n",
    "|-------------------|\n",
    "|TensorFlow|\n",
    "|PyTorch|\n",
    "|Scikit-learn|"
   ]
  },
  {
   "cell_type": "markdown",
   "id": "b0520136-9bf6-49ba-9a09-236fd852e6bf",
   "metadata": {},
   "source": [
    "### Below are a few examples of evaluating arithmetic expressions in Python"
   ]
  },
  {
   "cell_type": "code",
   "execution_count": 1,
   "id": "1f0bdac2-38ab-4ff2-8b1e-ce715d24df4f",
   "metadata": {},
   "outputs": [
    {
     "data": {
      "text/plain": [
       "17"
      ]
     },
     "execution_count": 1,
     "metadata": {},
     "output_type": "execute_result"
    }
   ],
   "source": [
    "# This is a simple arithmetic expression to multiply then add integers\n",
    "(3*4)+5"
   ]
  },
  {
   "cell_type": "code",
   "execution_count": 2,
   "id": "21b5c6d5-234d-4a32-ad35-046336a2b1bd",
   "metadata": {},
   "outputs": [
    {
     "data": {
      "text/plain": [
       "3.3333333333333335"
      ]
     },
     "execution_count": 2,
     "metadata": {},
     "output_type": "execute_result"
    }
   ],
   "source": [
    "# This will convert 200 minutes to hours by dividing 60\n",
    "200/60"
   ]
  },
  {
   "cell_type": "markdown",
   "id": "6447a4fd-852d-4d26-b1fa-6926c6d3239e",
   "metadata": {},
   "source": [
    "## Author\n",
    "Kenny Moreno Fiallos"
   ]
  },
  {
   "cell_type": "code",
   "execution_count": null,
   "id": "dfd80a5c-8aa9-4c38-ac92-9e30bdf72fc1",
   "metadata": {},
   "outputs": [],
   "source": []
  }
 ],
 "metadata": {
  "kernelspec": {
   "display_name": "Python [conda env:base] *",
   "language": "python",
   "name": "conda-base-py"
  },
  "language_info": {
   "codemirror_mode": {
    "name": "ipython",
    "version": 3
   },
   "file_extension": ".py",
   "mimetype": "text/x-python",
   "name": "python",
   "nbconvert_exporter": "python",
   "pygments_lexer": "ipython3",
   "version": "3.12.7"
  }
 },
 "nbformat": 4,
 "nbformat_minor": 5
}
